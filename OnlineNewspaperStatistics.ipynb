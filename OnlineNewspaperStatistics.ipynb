{
 "cells": [
  {
   "cell_type": "markdown",
   "id": "6yDxo9u0d9Na",
   "metadata": {
    "id": "6yDxo9u0d9Na"
   },
   "source": [
    "# Project Business Statistics: E-news Express\n",
    "\n",
    "**Marks: 60**"
   ]
  },
  {
   "cell_type": "markdown",
   "id": "SrLd-ICEmPSD",
   "metadata": {
    "id": "SrLd-ICEmPSD"
   },
   "source": [
    "## Define Problem Statement and Objectives"
   ]
  },
  {
   "cell_type": "markdown",
   "id": "9Vt1PLLqmXNn",
   "metadata": {
    "id": "9Vt1PLLqmXNn"
   },
   "source": [
    "An online news portal, E-news Express, wants to increase its number of subscribers in order to grow its business. Executives for E-news Express are concerned that the website's orignial landing page is not engaging enough to attract readers and convince them to subscribe to the news portal. A new landing page with a different layout and more relevant content is designed. \n",
    "\n",
    "We, the data science department of E-news Express, have been tasked with determining whether the new website is attracting more readers and converting them to subscribers than the original website. The news portal has collected two random samples for us to analyze. One sample contains data on fifty readers of the original website. The second sample has data on fifty readers who viewed the new redesigned website. We will determine the efficacy of the new site by answering four questions:\n",
    "   1. Do readers spend more time on the redesigned website than the original?\n",
    "   2. Does the new website convert a greater proportion of its viewers than the original?\n",
    "   3. Is there a correlation between the number of converted readers and their language preference?\n",
    "   4. Do groups with different language preferences view the new website for equal amounts of time?"
   ]
  },
  {
   "cell_type": "markdown",
   "id": "a6a3d218",
   "metadata": {
    "id": "a6a3d218"
   },
   "source": [
    "## Import all the necessary libraries"
   ]
  },
  {
   "cell_type": "code",
   "execution_count": 1,
   "id": "658c5dec",
   "metadata": {
    "id": "658c5dec"
   },
   "outputs": [],
   "source": [
    "#import necessary libraries\n",
    "import numpy as np\n",
    "import pandas as pd\n",
    "import matplotlib.pyplot as plt\n",
    "import scipy.stats as stats\n",
    "import seaborn as sns\n",
    "\n",
    "import warnings\n",
    "warnings.filterwarnings('ignore')"
   ]
  },
  {
   "cell_type": "markdown",
   "id": "6970dd99",
   "metadata": {
    "id": "6970dd99"
   },
   "source": [
    "## Reading the Data into a DataFrame"
   ]
  },
  {
   "cell_type": "code",
   "execution_count": 2,
   "id": "d3b95640",
   "metadata": {
    "id": "d3b95640"
   },
   "outputs": [],
   "source": [
    "df = pd.read_csv('abtest.csv')"
   ]
  },
  {
   "cell_type": "markdown",
   "id": "9d75cfa2",
   "metadata": {
    "id": "9d75cfa2"
   },
   "source": [
    "## Explore the dataset and extract insights using Exploratory Data Analysis"
   ]
  },
  {
   "cell_type": "markdown",
   "id": "27201534",
   "metadata": {
    "id": "27201534"
   },
   "source": [
    "- Data Overview\n",
    "  - Viewing the first and last few rows of the dataset\n",
    "  - Checking the shape of the dataset\n",
    "  - Getting the statistical summary for the variables\n",
    "- Check for missing values\n",
    "- Check for duplicates"
   ]
  },
  {
   "cell_type": "code",
   "execution_count": 3,
   "id": "e1ad11d4",
   "metadata": {
    "id": "e1ad11d4"
   },
   "outputs": [
    {
     "data": {
      "text/html": [
       "<div>\n",
       "<style scoped>\n",
       "    .dataframe tbody tr th:only-of-type {\n",
       "        vertical-align: middle;\n",
       "    }\n",
       "\n",
       "    .dataframe tbody tr th {\n",
       "        vertical-align: top;\n",
       "    }\n",
       "\n",
       "    .dataframe thead th {\n",
       "        text-align: right;\n",
       "    }\n",
       "</style>\n",
       "<table border=\"1\" class=\"dataframe\">\n",
       "  <thead>\n",
       "    <tr style=\"text-align: right;\">\n",
       "      <th></th>\n",
       "      <th>user_id</th>\n",
       "      <th>group</th>\n",
       "      <th>landing_page</th>\n",
       "      <th>time_spent_on_the_page</th>\n",
       "      <th>converted</th>\n",
       "      <th>language_preferred</th>\n",
       "    </tr>\n",
       "  </thead>\n",
       "  <tbody>\n",
       "    <tr>\n",
       "      <th>0</th>\n",
       "      <td>546592</td>\n",
       "      <td>control</td>\n",
       "      <td>old</td>\n",
       "      <td>3.48</td>\n",
       "      <td>no</td>\n",
       "      <td>Spanish</td>\n",
       "    </tr>\n",
       "    <tr>\n",
       "      <th>1</th>\n",
       "      <td>546468</td>\n",
       "      <td>treatment</td>\n",
       "      <td>new</td>\n",
       "      <td>7.13</td>\n",
       "      <td>yes</td>\n",
       "      <td>English</td>\n",
       "    </tr>\n",
       "    <tr>\n",
       "      <th>2</th>\n",
       "      <td>546462</td>\n",
       "      <td>treatment</td>\n",
       "      <td>new</td>\n",
       "      <td>4.40</td>\n",
       "      <td>no</td>\n",
       "      <td>Spanish</td>\n",
       "    </tr>\n",
       "    <tr>\n",
       "      <th>3</th>\n",
       "      <td>546567</td>\n",
       "      <td>control</td>\n",
       "      <td>old</td>\n",
       "      <td>3.02</td>\n",
       "      <td>no</td>\n",
       "      <td>French</td>\n",
       "    </tr>\n",
       "    <tr>\n",
       "      <th>4</th>\n",
       "      <td>546459</td>\n",
       "      <td>treatment</td>\n",
       "      <td>new</td>\n",
       "      <td>4.75</td>\n",
       "      <td>yes</td>\n",
       "      <td>Spanish</td>\n",
       "    </tr>\n",
       "    <tr>\n",
       "      <th>...</th>\n",
       "      <td>...</td>\n",
       "      <td>...</td>\n",
       "      <td>...</td>\n",
       "      <td>...</td>\n",
       "      <td>...</td>\n",
       "      <td>...</td>\n",
       "    </tr>\n",
       "    <tr>\n",
       "      <th>95</th>\n",
       "      <td>546446</td>\n",
       "      <td>treatment</td>\n",
       "      <td>new</td>\n",
       "      <td>5.15</td>\n",
       "      <td>no</td>\n",
       "      <td>Spanish</td>\n",
       "    </tr>\n",
       "    <tr>\n",
       "      <th>96</th>\n",
       "      <td>546544</td>\n",
       "      <td>control</td>\n",
       "      <td>old</td>\n",
       "      <td>6.52</td>\n",
       "      <td>yes</td>\n",
       "      <td>English</td>\n",
       "    </tr>\n",
       "    <tr>\n",
       "      <th>97</th>\n",
       "      <td>546472</td>\n",
       "      <td>treatment</td>\n",
       "      <td>new</td>\n",
       "      <td>7.07</td>\n",
       "      <td>yes</td>\n",
       "      <td>Spanish</td>\n",
       "    </tr>\n",
       "    <tr>\n",
       "      <th>98</th>\n",
       "      <td>546481</td>\n",
       "      <td>treatment</td>\n",
       "      <td>new</td>\n",
       "      <td>6.20</td>\n",
       "      <td>yes</td>\n",
       "      <td>Spanish</td>\n",
       "    </tr>\n",
       "    <tr>\n",
       "      <th>99</th>\n",
       "      <td>546483</td>\n",
       "      <td>treatment</td>\n",
       "      <td>new</td>\n",
       "      <td>5.86</td>\n",
       "      <td>yes</td>\n",
       "      <td>English</td>\n",
       "    </tr>\n",
       "  </tbody>\n",
       "</table>\n",
       "<p>100 rows × 6 columns</p>\n",
       "</div>"
      ],
      "text/plain": [
       "    user_id      group landing_page  time_spent_on_the_page converted  \\\n",
       "0    546592    control          old                    3.48        no   \n",
       "1    546468  treatment          new                    7.13       yes   \n",
       "2    546462  treatment          new                    4.40        no   \n",
       "3    546567    control          old                    3.02        no   \n",
       "4    546459  treatment          new                    4.75       yes   \n",
       "..      ...        ...          ...                     ...       ...   \n",
       "95   546446  treatment          new                    5.15        no   \n",
       "96   546544    control          old                    6.52       yes   \n",
       "97   546472  treatment          new                    7.07       yes   \n",
       "98   546481  treatment          new                    6.20       yes   \n",
       "99   546483  treatment          new                    5.86       yes   \n",
       "\n",
       "   language_preferred  \n",
       "0             Spanish  \n",
       "1             English  \n",
       "2             Spanish  \n",
       "3              French  \n",
       "4             Spanish  \n",
       "..                ...  \n",
       "95            Spanish  \n",
       "96            English  \n",
       "97            Spanish  \n",
       "98            Spanish  \n",
       "99            English  \n",
       "\n",
       "[100 rows x 6 columns]"
      ]
     },
     "execution_count": 3,
     "metadata": {},
     "output_type": "execute_result"
    }
   ],
   "source": [
    "# view first five and last five entries of dataframe\n",
    "df"
   ]
  },
  {
   "cell_type": "code",
   "execution_count": 5,
   "id": "655c9782",
   "metadata": {},
   "outputs": [
    {
     "data": {
      "text/plain": [
       "(100, 6)"
      ]
     },
     "execution_count": 5,
     "metadata": {},
     "output_type": "execute_result"
    }
   ],
   "source": [
    "# view dataframe shape\n",
    "df.shape"
   ]
  },
  {
   "cell_type": "markdown",
   "id": "d6bf2374",
   "metadata": {},
   "source": [
    "**Observation:**\n",
    "* 100 entries\n",
    "* 6 fields"
   ]
  },
  {
   "cell_type": "code",
   "execution_count": 6,
   "id": "f1f135ab",
   "metadata": {},
   "outputs": [
    {
     "name": "stdout",
     "output_type": "stream",
     "text": [
      "<class 'pandas.core.frame.DataFrame'>\n",
      "RangeIndex: 100 entries, 0 to 99\n",
      "Data columns (total 6 columns):\n",
      " #   Column                  Non-Null Count  Dtype  \n",
      "---  ------                  --------------  -----  \n",
      " 0   user_id                 100 non-null    int64  \n",
      " 1   group                   100 non-null    object \n",
      " 2   landing_page            100 non-null    object \n",
      " 3   time_spent_on_the_page  100 non-null    float64\n",
      " 4   converted               100 non-null    object \n",
      " 5   language_preferred      100 non-null    object \n",
      "dtypes: float64(1), int64(1), object(4)\n",
      "memory usage: 4.8+ KB\n"
     ]
    }
   ],
   "source": [
    "df.info()"
   ]
  },
  {
   "cell_type": "markdown",
   "id": "dd145dbc",
   "metadata": {},
   "source": [
    "**Observation:**\n",
    "* Four fields are categorical\n",
    "* Two fields contain numerical values."
   ]
  },
  {
   "cell_type": "code",
   "execution_count": 7,
   "id": "70ceb6c3",
   "metadata": {},
   "outputs": [
    {
     "data": {
      "text/plain": [
       "user_id                   0\n",
       "group                     0\n",
       "landing_page              0\n",
       "time_spent_on_the_page    0\n",
       "converted                 0\n",
       "language_preferred        0\n",
       "dtype: int64"
      ]
     },
     "execution_count": 7,
     "metadata": {},
     "output_type": "execute_result"
    }
   ],
   "source": [
    "df.isnull().sum()"
   ]
  },
  {
   "cell_type": "markdown",
   "id": "010dbd11",
   "metadata": {},
   "source": [
    "**Observation:**\n",
    "* No null values for any of the fields"
   ]
  },
  {
   "cell_type": "code",
   "execution_count": 8,
   "id": "9eb508c2",
   "metadata": {},
   "outputs": [
    {
     "data": {
      "text/plain": [
       "count    100.000000\n",
       "mean       5.377800\n",
       "std        2.378166\n",
       "min        0.190000\n",
       "25%        3.880000\n",
       "50%        5.415000\n",
       "75%        7.022500\n",
       "max       10.710000\n",
       "Name: time_spent_on_the_page, dtype: float64"
      ]
     },
     "execution_count": 8,
     "metadata": {},
     "output_type": "execute_result"
    }
   ],
   "source": [
    "df[\"time_spent_on_the_page\"].describe()"
   ]
  },
  {
   "cell_type": "markdown",
   "id": "68f3b2c9",
   "metadata": {
    "id": "68f3b2c9"
   },
   "source": [
    "### Univariate Analysis\n",
    "\n",
    "**The dataframe contains two sample groups. I have separated the dataframe into an\"old\" dataframe containing the viewership of the old landing page and a \"new\" dataframe containing the viewership of the new landing page. Each dataframe is analysized separately.**"
   ]
  },
  {
   "cell_type": "code",
   "execution_count": 11,
   "id": "3beb627a",
   "metadata": {},
   "outputs": [],
   "source": [
    "# dataframe containing entries in which the users viewed the old landing page\n",
    "old = df[df[\"landing_page\"]==\"old\"]\n",
    "\n",
    "# dataframe containing entries in which the users viewed the new landing page\n",
    "new = df[df[\"landing_page\"]==\"new\"]"
   ]
  },
  {
   "cell_type": "code",
   "execution_count": 12,
   "id": "b1f46108",
   "metadata": {},
   "outputs": [
    {
     "name": "stdout",
     "output_type": "stream",
     "text": [
      "Time Spent Viewing the Old Page:\n",
      "Mean: 4.53 \n",
      "Median: 4.38 \n",
      "Standard Deviation: 2.58\n",
      "\n",
      "\n",
      "Time Spent Viewing the New Page:\n",
      "Mean: 6.22 \n",
      "Median: 6.11 \n",
      "Standard Deviation: 1.82\n"
     ]
    },
    {
     "data": {
      "image/png": "[encoded data removed]",
      "text/plain": [
       "<Figure size 432x216 with 2 Axes>"
      ]
     },
     "metadata": {
      "needs_background": "light"
     },
     "output_type": "display_data"
    },
    {
     "data": {
      "image/png": "[encoded data removed]",
      "text/plain": [
       "<Figure size 432x216 with 2 Axes>"
      ]
     },
     "metadata": {
      "needs_background": "light"
     },
     "output_type": "display_data"
    }
   ],
   "source": [
    "# old \n",
    "print(\"Time Spent Viewing the Old Page:\\nMean:\",round(old[\"time_spent_on_the_page\"].mean(),2),\"\\nMedian:\",round(old[\"time_spent_on_the_page\"].median(),2),\"\\nStandard Deviation:\",round(old[\"time_spent_on_the_page\"].std(),2))\n",
    "\n",
    "# new\n",
    "print(\"\\n\\nTime Spent Viewing the New Page:\\nMean:\",round(new[\"time_spent_on_the_page\"].mean(),2),\"\\nMedian:\",round(new[\"time_spent_on_the_page\"].median(),2),\"\\nStandard Deviation:\",round(new[\"time_spent_on_the_page\"].std(),2))\n",
    "\n",
    "\n",
    "g = sns.FacetGrid(df, col=\"landing_page\")\n",
    "g.map(sns.histplot, \"time_spent_on_the_page\",kde=True);\n",
    "plt.show()\n",
    "\n",
    "g = sns.FacetGrid(df, col=\"landing_page\")\n",
    "g.map(sns.boxplot, \"time_spent_on_the_page\");\n",
    "plt.show()"
   ]
  },
  {
   "cell_type": "markdown",
   "id": "372db425",
   "metadata": {},
   "source": [
    "**Observations:**\n",
    "\n",
    "**Old:**\n",
    "  * The distribution of the time spent on the old page has a slight right skew.\n",
    "  * The boxplot reveals are no outliers.\n",
    "  * The mean of the time spent on the page is 4.53, and the standard deviation is 2.58\n",
    "  \n",
    "**New:**\n",
    "  * The distribution of time spent on the new page has a slight right skew.\n",
    "  * There are three outliers.\n",
    "  * The mean of the time spent on the page is 6.22, and the standard deviation is 1.82\n",
    "<br></br>\n",
    "  \n",
    "* The mean and median of the time spent viewing the new page is greater than the mean and median of the old page.\n",
    "* There appears to be less variance in the time spent on the new page than on the old landing page. "
   ]
  },
  {
   "cell_type": "code",
   "execution_count": 13,
   "id": "8ffdaffb",
   "metadata": {},
   "outputs": [
    {
     "name": "stdout",
     "output_type": "stream",
     "text": [
      "Spanish    17\n",
      "French     17\n",
      "English    16\n",
      "Name: language_preferred, dtype: int64\n",
      "\n",
      "Spanish    17\n",
      "French     17\n",
      "English    16\n",
      "Name: language_preferred, dtype: int64\n"
     ]
    },
    {
     "data": {
      "image/png": "[encoded data removed]",
      "text/plain": [
       "<Figure size 432x216 with 2 Axes>"
      ]
     },
     "metadata": {
      "needs_background": "light"
     },
     "output_type": "display_data"
    }
   ],
   "source": [
    "#Old\n",
    "print(old[\"language_preferred\"].value_counts())\n",
    "print()\n",
    "#New\n",
    "print(new[\"language_preferred\"].value_counts())\n",
    "\n",
    "#Count Plot \n",
    "g = sns.FacetGrid(df, col=\"landing_page\")\n",
    "g.map(sns.countplot, \"language_preferred\", palette=['#432371',\"#FAAE7B\",\"red\"]);\n",
    "plt.show()"
   ]
  },
  {
   "cell_type": "markdown",
   "id": "2ee0ce8a",
   "metadata": {},
   "source": [
    "**Observations:**\n",
    "* Roughly equal numbers of Spanish, French and English preferences in both the old and new samples.\n"
   ]
  },
  {
   "cell_type": "code",
   "execution_count": 14,
   "id": "58e9a1d0",
   "metadata": {
    "id": "58e9a1d0"
   },
   "outputs": [
    {
     "data": {
      "text/html": [
       "<div>\n",
       "<style scoped>\n",
       "    .dataframe tbody tr th:only-of-type {\n",
       "        vertical-align: middle;\n",
       "    }\n",
       "\n",
       "    .dataframe tbody tr th {\n",
       "        vertical-align: top;\n",
       "    }\n",
       "\n",
       "    .dataframe thead th {\n",
       "        text-align: right;\n",
       "    }\n",
       "</style>\n",
       "<table border=\"1\" class=\"dataframe\">\n",
       "  <thead>\n",
       "    <tr style=\"text-align: right;\">\n",
       "      <th>landing_page</th>\n",
       "      <th>new</th>\n",
       "      <th>old</th>\n",
       "    </tr>\n",
       "    <tr>\n",
       "      <th>converted</th>\n",
       "      <th></th>\n",
       "      <th></th>\n",
       "    </tr>\n",
       "  </thead>\n",
       "  <tbody>\n",
       "    <tr>\n",
       "      <th>no</th>\n",
       "      <td>17</td>\n",
       "      <td>29</td>\n",
       "    </tr>\n",
       "    <tr>\n",
       "      <th>yes</th>\n",
       "      <td>33</td>\n",
       "      <td>21</td>\n",
       "    </tr>\n",
       "  </tbody>\n",
       "</table>\n",
       "</div>"
      ],
      "text/plain": [
       "landing_page  new  old\n",
       "converted             \n",
       "no             17   29\n",
       "yes            33   21"
      ]
     },
     "execution_count": 14,
     "metadata": {},
     "output_type": "execute_result"
    }
   ],
   "source": [
    "contingency_table = pd.crosstab(df['converted'],df['landing_page'])\n",
    "contingency_table"
   ]
  },
  {
   "cell_type": "code",
   "execution_count": 15,
   "id": "6110e0d7",
   "metadata": {},
   "outputs": [
    {
     "data": {
      "image/png": "[encoded data removed]",
      "text/plain": [
       "<Figure size 432x288 with 1 Axes>"
      ]
     },
     "metadata": {
      "needs_background": "light"
     },
     "output_type": "display_data"
    }
   ],
   "source": [
    "contingency_table.plot(kind='bar',stacked =True)\n",
    "plt.legend()\n",
    "plt.title(\"Bar Plot: Unconverted vs. Converted with the number from each page\")\n",
    "plt.show()"
   ]
  },
  {
   "cell_type": "markdown",
   "id": "ac7fc793",
   "metadata": {},
   "source": [
    "**Observations:**\n",
    "* 46 visitors did not convert while 54 visitors converted\n",
    "* Of the 54 converted visitors, 21 came from the old landing page while 33 came from the new landing page\n",
    "<br></br>\n",
    "<hr style=\"border:1px solid black\">"
   ]
  },
  {
   "cell_type": "markdown",
   "id": "fad2de2f",
   "metadata": {
    "id": "fad2de2f"
   },
   "source": [
    "### Bivariate Analysis"
   ]
  },
  {
   "cell_type": "code",
   "execution_count": 16,
   "id": "fd692c04",
   "metadata": {},
   "outputs": [
    {
     "data": {
      "image/png": "[encoded data removed]",
      "text/plain": [
       "<Figure size 432x288 with 1 Axes>"
      ]
     },
     "metadata": {
      "needs_background": "light"
     },
     "output_type": "display_data"
    }
   ],
   "source": [
    "# break the time spent on the old page into 11 time bins.\n",
    "\n",
    "bins = [0, 1,2,3,4,5,6,7,8,9,10,11]\n",
    "labels = ['<1 min',\"1 min\",\"2 min\",\"3 min\",\"4 min\",\"5 min\",\"6 min\",\"7 min\",\"8 min\",\"9 min\",\"10 min\"]\n",
    "old['time'] = pd.cut(x = old[\"time_spent_on_the_page\"], bins = bins, labels = labels, include_lowest = True)\n",
    "\n",
    "\n",
    "old.sort_values('time')\n",
    "old_time_table = pd.crosstab(old[\"time\"],old['converted']);\n",
    "old_time_table.plot(kind='bar',stacked =True);\n",
    "plt.show()"
   ]
  },
  {
   "cell_type": "code",
   "execution_count": 17,
   "id": "52afcbba",
   "metadata": {},
   "outputs": [
    {
     "data": {
      "image/png": "[encoded data removed]",
      "text/plain": [
       "<Figure size 432x288 with 1 Axes>"
      ]
     },
     "metadata": {
      "needs_background": "light"
     },
     "output_type": "display_data"
    }
   ],
   "source": [
    "bins = [0, 1,2,3,4,5,6,7,8,9,10,11]\n",
    "labels = ['<1 min',\"1 min\",\"2 min\",\"3 min\",\"4 min\",\"5 min\",\"6 min\",\"7 min\",\"8 min\",\"9 min\",\"10 min\"]\n",
    "new['time'] = pd.cut(x = new[\"time_spent_on_the_page\"], bins = bins, labels = labels, include_lowest = True)\n",
    "\n",
    "new.sort_values('time')\n",
    "time_table = pd.crosstab(new[\"time\"],new['converted']);\n",
    "time_table.plot(kind='bar',stacked =True);"
   ]
  },
  {
   "cell_type": "markdown",
   "id": "9e42e0ba",
   "metadata": {},
   "source": [
    "**Observations:**\n",
    "* People are unlikely to convert if they spend less than 2 minutes on either landing page.\n",
    "* The most conversion after viewing the old landing page occured around 6 minutes.\n",
    "* The most conversions appear to occur after users viewed the new page for 5 to 7  minutes."
   ]
  },
  {
   "cell_type": "code",
   "execution_count": 18,
   "id": "6c3f514c",
   "metadata": {},
   "outputs": [
    {
     "data": {
      "text/html": [
       "<div>\n",
       "<style scoped>\n",
       "    .dataframe tbody tr th:only-of-type {\n",
       "        vertical-align: middle;\n",
       "    }\n",
       "\n",
       "    .dataframe tbody tr th {\n",
       "        vertical-align: top;\n",
       "    }\n",
       "\n",
       "    .dataframe thead th {\n",
       "        text-align: right;\n",
       "    }\n",
       "</style>\n",
       "<table border=\"1\" class=\"dataframe\">\n",
       "  <thead>\n",
       "    <tr style=\"text-align: right;\">\n",
       "      <th>language_preferred</th>\n",
       "      <th>English</th>\n",
       "      <th>French</th>\n",
       "      <th>Spanish</th>\n",
       "    </tr>\n",
       "    <tr>\n",
       "      <th>converted</th>\n",
       "      <th></th>\n",
       "      <th></th>\n",
       "      <th></th>\n",
       "    </tr>\n",
       "  </thead>\n",
       "  <tbody>\n",
       "    <tr>\n",
       "      <th>no</th>\n",
       "      <td>11</td>\n",
       "      <td>19</td>\n",
       "      <td>16</td>\n",
       "    </tr>\n",
       "    <tr>\n",
       "      <th>yes</th>\n",
       "      <td>21</td>\n",
       "      <td>15</td>\n",
       "      <td>18</td>\n",
       "    </tr>\n",
       "  </tbody>\n",
       "</table>\n",
       "</div>"
      ],
      "text/plain": [
       "language_preferred  English  French  Spanish\n",
       "converted                                   \n",
       "no                       11      19       16\n",
       "yes                      21      15       18"
      ]
     },
     "execution_count": 18,
     "metadata": {},
     "output_type": "execute_result"
    }
   ],
   "source": [
    "contingency_table_language = pd.crosstab(df['converted'],df['language_preferred'])\n",
    "contingency_table_language"
   ]
  },
  {
   "cell_type": "code",
   "execution_count": 19,
   "id": "ee76eb60",
   "metadata": {},
   "outputs": [
    {
     "data": {
      "image/png": "[encoded data removed]",
      "text/plain": [
       "<Figure size 432x288 with 1 Axes>"
      ]
     },
     "metadata": {
      "needs_background": "light"
     },
     "output_type": "display_data"
    }
   ],
   "source": [
    "contingency_table_language.plot(kind='bar',stacked =True);"
   ]
  },
  {
   "cell_type": "markdown",
   "id": "aa8d4c0c",
   "metadata": {},
   "source": [
    "**Observation:**\n",
    "* Roughly two thirds of English speakers converted after viewing the new landing page.\n",
    "* Less than half the French speakers converted after viewing the new landing page.\n",
    "* A little more than half the Spanish speakers converted after viewing the new landing page.\n",
    "* A Two Proportion Z-test can reveal if the conversion rates of the three groups are significantly different and which group has the highest conversion rate if differences exist."
   ]
  },
  {
   "cell_type": "markdown",
   "id": "27906576",
   "metadata": {
    "id": "27906576"
   },
   "source": [
    "## 1. Do the users spend more time on the new landing page than the existing landing page?"
   ]
  },
  {
   "cell_type": "markdown",
   "id": "e5fdf0c8",
   "metadata": {
    "id": "e5fdf0c8"
   },
   "source": [
    "### Perform Visual Analysis"
   ]
  },
  {
   "cell_type": "code",
   "execution_count": 20,
   "id": "e1b7b517",
   "metadata": {},
   "outputs": [
    {
     "name": "stdout",
     "output_type": "stream",
     "text": [
      "\n",
      "\n",
      "Mean viewing time for old landing page: 4.53\n",
      "Standard deviation of the viewing time for the old landing page: 2.58\n"
     ]
    },
    {
     "data": {
      "image/png": "[encoded data removed]",
      "text/plain": [
       "<Figure size 432x288 with 1 Axes>"
      ]
     },
     "metadata": {
      "needs_background": "light"
     },
     "output_type": "display_data"
    },
    {
     "name": "stdout",
     "output_type": "stream",
     "text": [
      "\n",
      "\n",
      "Mean viewing time for old landing page: 6.22\n",
      "Standard deviation of the viewing time for the old landing page: 1.82\n"
     ]
    },
    {
     "data": {
      "image/png": "[encoded data removed]",
      "text/plain": [
       "<Figure size 432x288 with 1 Axes>"
      ]
     },
     "metadata": {
      "needs_background": "light"
     },
     "output_type": "display_data"
    }
   ],
   "source": [
    "# Select rows containing data for visitors to the old landing page.\n",
    "# Find average viewing time.\n",
    "# Plot histogram\n",
    "old = df[df[\"landing_page\"]==\"old\"]\n",
    "print(\"\\n\\nMean viewing time for old landing page:\", round(old[\"time_spent_on_the_page\"].mean(),2))\n",
    "print(\"Standard deviation of the viewing time for the old landing page:\", round(old[\"time_spent_on_the_page\"].std(),2) )\n",
    "sns.histplot(data=old, x=\"time_spent_on_the_page\",kde=True);\n",
    "plt.title(\"Histogram: Time Spent On the Old Landing Page\");\n",
    "plt.show()\n",
    "\n",
    "# Select rows containing data for visitors to the new landing page.\n",
    "# Find average viewing time\n",
    "# Plot histogram\n",
    "new = df[df[\"landing_page\"]==\"new\"]\n",
    "print(\"\\n\\nMean viewing time for old landing page:\", round(new[\"time_spent_on_the_page\"].mean(),2))\n",
    "print(\"Standard deviation of the viewing time for the old landing page:\", round(new[\"time_spent_on_the_page\"].std(),2) )\n",
    "sns.histplot(data=new, x=\"time_spent_on_the_page\",kde = True);\n",
    "plt.title(\"Histogram: Time Spent On the New Landing Page\");"
   ]
  },
  {
   "cell_type": "code",
   "execution_count": 21,
   "id": "c3208e73",
   "metadata": {},
   "outputs": [
    {
     "data": {
      "image/png": "[encoded data removed]",
      "text/plain": [
       "<Figure size 432x288 with 1 Axes>"
      ]
     },
     "metadata": {
      "needs_background": "light"
     },
     "output_type": "display_data"
    }
   ],
   "source": [
    "# Box plot \n",
    "sns.boxplot(data=df, x='landing_page', y='time_spent_on_the_page') ;"
   ]
  },
  {
   "cell_type": "markdown",
   "id": "66aa719a",
   "metadata": {},
   "source": [
    "**Observations:**\n",
    "* The new landing page's mean viewing time is 6.22 minutes. The older landing page has a mean viewing time of 4.53 minutes \n",
    "* There is more variance in the old landing page's viewing time. \n",
    "    * Old landing page's standard deviation: 2.58\n",
    "    * New landing page's standard deviation: 1.82\n",
    "* The new landing page has several outliers while the old landing page has none.\n",
    "* The distributions of viewing time for both the old and new landing pages are both slightly skewed. "
   ]
  },
  {
   "cell_type": "markdown",
   "id": "56b3dafd",
   "metadata": {
    "id": "56b3dafd"
   },
   "source": [
    "### Step 1: Define the null and alternate hypotheses"
   ]
  },
  {
   "cell_type": "markdown",
   "id": "d2ac77ef",
   "metadata": {
    "id": "d2ac77ef"
   },
   "source": [
    "$\\mu_o$ will represent the mean viewing time for the old landing page.\n",
    "\n",
    "$\\mu_n$ will represent the mean viewing time for the new landing page.\n",
    "\n",
    "\n",
    "The null hypothesis:\n",
    "\n",
    ">$H_0:\\mu_o$ >= $\\mu_n$\n",
    "\n",
    "The alternate hypothesis\n",
    "\n",
    ">$H_a:\\mu_o<\\mu_n$"
   ]
  },
  {
   "cell_type": "markdown",
   "id": "c7ee4907",
   "metadata": {
    "id": "c7ee4907"
   },
   "source": [
    "### Step 2: Select Appropriate test"
   ]
  },
  {
   "cell_type": "markdown",
   "id": "2c183cd7",
   "metadata": {
    "id": "2c183cd7"
   },
   "source": [
    "Two Independent Sample T-test for Equality of Means\n",
    "\n",
    "Assumptions for the test are met:\n",
    "- Viewing time is continuous data.\n",
    "- The samples are normally distributed.  The Central Limit Theorem applies since the sample size of both samples is 50(>30).  \n",
    "- The samples are taken from two independent groups.\n",
    "- The standard deviations of the two samples are unequal.\n",
    "- The samples were randomly selected.\n"
   ]
  },
  {
   "cell_type": "markdown",
   "id": "3f58c9a7",
   "metadata": {
    "id": "3f58c9a7"
   },
   "source": [
    "### Step 3: Decide the significance level"
   ]
  },
  {
   "cell_type": "markdown",
   "id": "92d7d7ee",
   "metadata": {
    "id": "92d7d7ee"
   },
   "source": [
    "We will set $\\alpha$ to 0.05"
   ]
  },
  {
   "cell_type": "markdown",
   "id": "5fed2eac",
   "metadata": {
    "id": "5fed2eac"
   },
   "source": [
    "### Step 4: Collect and prepare data"
   ]
  },
  {
   "cell_type": "code",
   "execution_count": null,
   "id": "f5a59495",
   "metadata": {
    "id": "f5a59495"
   },
   "outputs": [],
   "source": [
    "#See above analysis"
   ]
  },
  {
   "cell_type": "markdown",
   "id": "f5c5258d",
   "metadata": {
    "id": "f5c5258d"
   },
   "source": [
    "### Step 5: Calculate the p-value"
   ]
  },
  {
   "cell_type": "code",
   "execution_count": 22,
   "id": "fac8594a",
   "metadata": {
    "id": "fac8594a"
   },
   "outputs": [
    {
     "name": "stdout",
     "output_type": "stream",
     "text": [
      "The p-value is  0.0001392381225166549\n"
     ]
    }
   ],
   "source": [
    "#import the required functions\n",
    "from scipy.stats import ttest_ind\n",
    "\n",
    "# find the p-value\n",
    "test_stat, p_value = ttest_ind(old['time_spent_on_the_page'], new['time_spent_on_the_page'], equal_var = False, alternative = 'less')\n",
    "print('The p-value is ', p_value)"
   ]
  },
  {
   "cell_type": "markdown",
   "id": "359b12f8",
   "metadata": {
    "id": "359b12f8"
   },
   "source": [
    "### Step 6: Compare the p-value with $\\alpha$"
   ]
  },
  {
   "cell_type": "markdown",
   "id": "6dcd528f",
   "metadata": {
    "id": "7be47289"
   },
   "source": [
    "The p-value ( 0.0001392381225166549) is less than the $\\alpha$ value of 0.05.\n",
    "\n",
    "There is enough evidence to reject the null hypothesis. The alternative hypothesis can be accepted."
   ]
  },
  {
   "cell_type": "markdown",
   "id": "d9affc84",
   "metadata": {
    "id": "d9affc84"
   },
   "source": [
    "### Step 7:  Draw inference"
   ]
  },
  {
   "cell_type": "markdown",
   "id": "6b16dd4b",
   "metadata": {
    "id": "6b16dd4b"
   },
   "source": [
    "The mean of the time spent viewing the newer landing page is greater than the mean of the time spent viewing the original page. \n",
    "<br></br>\n",
    "<hr style=\"border:1px solid black\">\n"
   ]
  },
  {
   "cell_type": "markdown",
   "id": "353e9d24",
   "metadata": {
    "id": "353e9d24"
   },
   "source": [
    "## 2. Is the conversion rate (the proportion of users who visit the landing page and get converted) for the new page greater than the conversion rate for the old page?"
   ]
  },
  {
   "cell_type": "markdown",
   "id": "f8e9236c",
   "metadata": {},
   "source": [
    "### Perform Visual Analysis"
   ]
  },
  {
   "cell_type": "code",
   "execution_count": 23,
   "id": "2adbe7b7",
   "metadata": {},
   "outputs": [
    {
     "data": {
      "text/html": [
       "<div>\n",
       "<style scoped>\n",
       "    .dataframe tbody tr th:only-of-type {\n",
       "        vertical-align: middle;\n",
       "    }\n",
       "\n",
       "    .dataframe tbody tr th {\n",
       "        vertical-align: top;\n",
       "    }\n",
       "\n",
       "    .dataframe thead th {\n",
       "        text-align: right;\n",
       "    }\n",
       "</style>\n",
       "<table border=\"1\" class=\"dataframe\">\n",
       "  <thead>\n",
       "    <tr style=\"text-align: right;\">\n",
       "      <th>landing_page</th>\n",
       "      <th>new</th>\n",
       "      <th>old</th>\n",
       "    </tr>\n",
       "    <tr>\n",
       "      <th>converted</th>\n",
       "      <th></th>\n",
       "      <th></th>\n",
       "    </tr>\n",
       "  </thead>\n",
       "  <tbody>\n",
       "    <tr>\n",
       "      <th>no</th>\n",
       "      <td>17</td>\n",
       "      <td>29</td>\n",
       "    </tr>\n",
       "    <tr>\n",
       "      <th>yes</th>\n",
       "      <td>33</td>\n",
       "      <td>21</td>\n",
       "    </tr>\n",
       "  </tbody>\n",
       "</table>\n",
       "</div>"
      ],
      "text/plain": [
       "landing_page  new  old\n",
       "converted             \n",
       "no             17   29\n",
       "yes            33   21"
      ]
     },
     "execution_count": 23,
     "metadata": {},
     "output_type": "execute_result"
    }
   ],
   "source": [
    "contingency_table"
   ]
  },
  {
   "cell_type": "code",
   "execution_count": 126,
   "id": "bab86c8d",
   "metadata": {},
   "outputs": [
    {
     "data": {
      "image/png": "[encoded data removed]",
      "text/plain": [
       "<Figure size 432x288 with 1 Axes>"
      ]
     },
     "metadata": {
      "needs_background": "light"
     },
     "output_type": "display_data"
    }
   ],
   "source": [
    "contingency_table.plot(kind='bar',stacked =True)\n",
    "plt.legend()\n",
    "plt.title(\"Bar Plot: Unconverted vs. Converted with the number from each page\")\n",
    "plt.show()"
   ]
  },
  {
   "cell_type": "markdown",
   "id": "4ac11072",
   "metadata": {},
   "source": [
    "### Step 1: Define the null and alternate hypotheses\n",
    "$P_O$ will represent the conversion rate for the old landing page.\n",
    "\n",
    "$P_N$ will represent the conversion rate for the new landing page.\n",
    "\n",
    "\n",
    "The null hypothesis:\n",
    "\n",
    ">$H_0: P_O$ >= $P_N$\n",
    "\n",
    "The alternate hypothesis\n",
    "\n",
    ">$H_a:P_O<P_N$\n"
   ]
  },
  {
   "cell_type": "markdown",
   "id": "ad8d32a0",
   "metadata": {},
   "source": [
    "### Step 2: Select Appropriate test\n",
    "\n",
    "Two Proportion Z-test\n",
    "\n",
    "- Binomally distributed population - A viewer either converts or does not.\n",
    "- The two populations are randomly sampled.\n",
    "- np and n(1-p) are greater than to 10.\n",
    "\n",
    ">$np_O = 50\\cdot \\frac{21}{50} =21 \\geq 10\\\\\n",
    "n(1-p_O) = 50 \\cdot \\frac{50-21}{50} =29 \\geq 10 \\\\\n",
    "np_N = 50\\cdot \\frac{33}{50} =33 \\geq 10\\\\\n",
    "n(1-p_N) = 50 \\cdot \\frac{50-33}{50} =17 \\geq 10 $"
   ]
  },
  {
   "cell_type": "markdown",
   "id": "182c8d6b",
   "metadata": {},
   "source": [
    "### Step 3: Decide the significance level\n",
    "\n",
    "We will set $\\alpha$ to 0.05"
   ]
  },
  {
   "cell_type": "markdown",
   "id": "76d0c957",
   "metadata": {},
   "source": [
    "### Step 4: Collect and prepare data"
   ]
  },
  {
   "cell_type": "code",
   "execution_count": 20,
   "id": "b7f52898",
   "metadata": {
    "id": "b7f52898"
   },
   "outputs": [
    {
     "data": {
      "text/html": [
       "<div>\n",
       "<style scoped>\n",
       "    .dataframe tbody tr th:only-of-type {\n",
       "        vertical-align: middle;\n",
       "    }\n",
       "\n",
       "    .dataframe tbody tr th {\n",
       "        vertical-align: top;\n",
       "    }\n",
       "\n",
       "    .dataframe thead th {\n",
       "        text-align: right;\n",
       "    }\n",
       "</style>\n",
       "<table border=\"1\" class=\"dataframe\">\n",
       "  <thead>\n",
       "    <tr style=\"text-align: right;\">\n",
       "      <th>landing_page</th>\n",
       "      <th>new</th>\n",
       "      <th>old</th>\n",
       "    </tr>\n",
       "    <tr>\n",
       "      <th>converted</th>\n",
       "      <th></th>\n",
       "      <th></th>\n",
       "    </tr>\n",
       "  </thead>\n",
       "  <tbody>\n",
       "    <tr>\n",
       "      <th>no</th>\n",
       "      <td>17</td>\n",
       "      <td>29</td>\n",
       "    </tr>\n",
       "    <tr>\n",
       "      <th>yes</th>\n",
       "      <td>33</td>\n",
       "      <td>21</td>\n",
       "    </tr>\n",
       "  </tbody>\n",
       "</table>\n",
       "</div>"
      ],
      "text/plain": [
       "landing_page  new  old\n",
       "converted             \n",
       "no             17   29\n",
       "yes            33   21"
      ]
     },
     "execution_count": 20,
     "metadata": {},
     "output_type": "execute_result"
    }
   ],
   "source": [
    "contingency_table = pd.crosstab(df['converted'],df['landing_page'])\n",
    "contingency_table"
   ]
  },
  {
   "cell_type": "markdown",
   "id": "3c0e7245",
   "metadata": {},
   "source": [
    "### Step 5: Calculate the p-value"
   ]
  },
  {
   "cell_type": "code",
   "execution_count": 25,
   "id": "62620525",
   "metadata": {},
   "outputs": [
    {
     "name": "stdout",
     "output_type": "stream",
     "text": [
      "The p-value is 0.008026308204056278\n"
     ]
    }
   ],
   "source": [
    "# import the required fuction\n",
    "from statsmodels.stats.proportion import proportions_ztest\n",
    "\n",
    "# set the counts of conversions\n",
    "conversion_count = np.array([21, 33])\n",
    "\n",
    "# set the sample sizes\n",
    "nobs = np.array([50, 50])\n",
    "\n",
    "# find the p-value\n",
    "test_stat, p_value = proportions_ztest(conversion_count, nobs,alternative=\"smaller\")\n",
    "print('The p-value is ' + str(p_value))"
   ]
  },
  {
   "cell_type": "markdown",
   "id": "d8ac7e01",
   "metadata": {},
   "source": [
    "### Step 6: Compare the p-value with $\\alpha$\n",
    "\n",
    "The p-value (0.016052616408112556) is less than the $\\alpha$ of .05.\n",
    "\n",
    "There is enough evidence to reject the null hypothesis."
   ]
  },
  {
   "cell_type": "markdown",
   "id": "5d86d4fe",
   "metadata": {},
   "source": [
    "### Step 7:  Draw inference\n",
    "\n",
    "The conversion rate of the new landing page is greater with the old landing page.\n",
    "<br></br>\n",
    "<hr style=\"border:1px solid black\">\n"
   ]
  },
  {
   "cell_type": "markdown",
   "id": "acde4e89",
   "metadata": {},
   "source": [
    "## 3. Is the conversion and preferred language are independent or related?"
   ]
  },
  {
   "cell_type": "markdown",
   "id": "d49bfa2d",
   "metadata": {
    "id": "d49bfa2d"
   },
   "source": [
    "\n",
    "### Step 1: Define the null and alternative hypotheses\n",
    "\n",
    "\n",
    "The null hypothesis:\n",
    "\n",
    ">$H_0:$ The conversion and language preferences are independent.\n",
    "\n",
    "The alternate hypothesis\n",
    "\n",
    ">$H_a:$ The conversion and language preferences are dependent.\n",
    "\n",
    "### Step 2: Select the test\n",
    "Chi-Square Test for Independence\n",
    "\n",
    "* Categorical variables\n",
    "* The number of observations in each level is greater than 5.\n",
    "* Random sampling from the population\n",
    "\n",
    "### Step 3: Set the significance level\n",
    "We will set $\\alpha$ to 0.05\n",
    "\n",
    "### Step 4: Collect and Prepare The Data"
   ]
  },
  {
   "cell_type": "code",
   "execution_count": 22,
   "id": "cab33440",
   "metadata": {},
   "outputs": [
    {
     "data": {
      "text/html": [
       "<div>\n",
       "<style scoped>\n",
       "    .dataframe tbody tr th:only-of-type {\n",
       "        vertical-align: middle;\n",
       "    }\n",
       "\n",
       "    .dataframe tbody tr th {\n",
       "        vertical-align: top;\n",
       "    }\n",
       "\n",
       "    .dataframe thead th {\n",
       "        text-align: right;\n",
       "    }\n",
       "</style>\n",
       "<table border=\"1\" class=\"dataframe\">\n",
       "  <thead>\n",
       "    <tr style=\"text-align: right;\">\n",
       "      <th>language_preferred</th>\n",
       "      <th>English</th>\n",
       "      <th>French</th>\n",
       "      <th>Spanish</th>\n",
       "    </tr>\n",
       "    <tr>\n",
       "      <th>converted</th>\n",
       "      <th></th>\n",
       "      <th></th>\n",
       "      <th></th>\n",
       "    </tr>\n",
       "  </thead>\n",
       "  <tbody>\n",
       "    <tr>\n",
       "      <th>no</th>\n",
       "      <td>11</td>\n",
       "      <td>19</td>\n",
       "      <td>16</td>\n",
       "    </tr>\n",
       "    <tr>\n",
       "      <th>yes</th>\n",
       "      <td>21</td>\n",
       "      <td>15</td>\n",
       "      <td>18</td>\n",
       "    </tr>\n",
       "  </tbody>\n",
       "</table>\n",
       "</div>"
      ],
      "text/plain": [
       "language_preferred  English  French  Spanish\n",
       "converted                                   \n",
       "no                       11      19       16\n",
       "yes                      21      15       18"
      ]
     },
     "execution_count": 22,
     "metadata": {},
     "output_type": "execute_result"
    }
   ],
   "source": [
    "table = pd.crosstab(df[\"converted\"],df[\"language_preferred\"])\n",
    "table"
   ]
  },
  {
   "cell_type": "markdown",
   "id": "7fbfd88c",
   "metadata": {},
   "source": [
    "### Step 5: Calculate P-Value"
   ]
  },
  {
   "cell_type": "code",
   "execution_count": 23,
   "id": "b0e63f17",
   "metadata": {
    "id": "b0e63f17"
   },
   "outputs": [
    {
     "name": "stdout",
     "output_type": "stream",
     "text": [
      "The p-value is 0.21298887487543447\n"
     ]
    }
   ],
   "source": [
    "# import the required function\n",
    "from scipy.stats import chi2_contingency\n",
    "\n",
    "# find the p-value\n",
    "chi, p_value, dof, expected = chi2_contingency(table)\n",
    "print('The p-value is', p_value)"
   ]
  },
  {
   "cell_type": "markdown",
   "id": "1b655e7c",
   "metadata": {},
   "source": [
    "### Step 6: Compare the P-Value with $\\alpha$\n",
    "\n",
    "The p-value ( 0.21298887487543447) is greater than the $\\alpha$ value of 0.05. There is not enough evidence to reject the null hypothesis.\n",
    "\n",
    "### Step 7: Draw Inference\n",
    "The null hypothesis is not overturned. The converted and the language preferences are independent.\n",
    "<br></br>\n",
    "<hr style=\"border:1px solid black\">\n",
    "\n"
   ]
  },
  {
   "cell_type": "markdown",
   "id": "8d585a90",
   "metadata": {
    "id": "8d585a90"
   },
   "source": [
    "## 4. Is the time spent on the new page same for the different language users?\n",
    "\n",
    "### Step 1: Define the null and alternative hypotheses\n",
    "\n",
    "\n",
    "The null hypothesis:\n",
    "\n",
    ">$H_0:$ Different groups of language users spend equal amounts of time on the new page.\n",
    "\n",
    "The alternate hypothesis\n",
    "\n",
    ">$H_a:$ At least one of the groups of language users spends an unequal amount of time on the new page.\n",
    "\n",
    "### Step 2: Select the test\n",
    "One-way ANOVA Test\n",
    "\n",
    "* The populations are normally distributed - A Shapiro-Wilk’s test will be used to confirm this assumption.\n",
    "* The samples are randomly collected.\n",
    "* Population variances are equal - A Levene's test will determine if this is true. \n",
    "\n",
    "### Step 3: Set the significance level\n",
    "We will set $\\alpha$ to 0.05\n",
    "\n",
    "### Step 4: Collect and Prepare The Data"
   ]
  },
  {
   "cell_type": "code",
   "execution_count": 130,
   "id": "b422f395",
   "metadata": {
    "id": "b422f395"
   },
   "outputs": [
    {
     "name": "stdout",
     "output_type": "stream",
     "text": [
      "language_preferred\n",
      "English    6.663750\n",
      "French     6.196471\n",
      "Spanish    5.835294\n",
      "Name: time_spent_on_the_page, dtype: float64\n",
      "\n",
      "\n",
      "\n",
      "language_preferred\n",
      "English    1.984150\n",
      "French     1.933394\n",
      "Spanish    1.525656\n",
      "Name: time_spent_on_the_page, dtype: float64\n",
      "\n",
      "\n",
      "\n"
     ]
    },
    {
     "data": {
      "image/png": "[encoded data removed]",
      "text/plain": [
       "<Figure size 648x216 with 3 Axes>"
      ]
     },
     "metadata": {
      "needs_background": "light"
     },
     "output_type": "display_data"
    },
    {
     "name": "stdout",
     "output_type": "stream",
     "text": [
      "\n",
      "\n",
      "\n"
     ]
    },
    {
     "data": {
      "image/png": "[encoded data removed]",
      "text/plain": [
       "<Figure size 432x432 with 1 Axes>"
      ]
     },
     "metadata": {
      "needs_background": "light"
     },
     "output_type": "display_data"
    },
    {
     "data": {
      "text/plain": [
       "Text(0.5, 1.0, 'Histogram: Time Spent On the New Page')"
      ]
     },
     "execution_count": 130,
     "metadata": {},
     "output_type": "execute_result"
    },
    {
     "data": {
      "image/png": "[encoded data removed]",
      "text/plain": [
       "<Figure size 432x288 with 1 Axes>"
      ]
     },
     "metadata": {
      "needs_background": "light"
     },
     "output_type": "display_data"
    }
   ],
   "source": [
    "# mean of time spent on the new landing page for each group of speakers\n",
    "print(new.groupby(\"language_preferred\")[\"time_spent_on_the_page\"].mean())\n",
    "print(\"\\n\\n\")\n",
    "\n",
    "print(new.groupby(\"language_preferred\")[\"time_spent_on_the_page\"].std())\n",
    "print(\"\\n\\n\")\n",
    "\n",
    "# draw histogram for each language group\n",
    "g = sns.FacetGrid(new, col=\"language_preferred\")\n",
    "g.map(sns.histplot, \"time_spent_on_the_page\", kde=True);\n",
    "plt.show()\n",
    "\n",
    "print(\"\\n\\n\")\n",
    "# draw the boxplot for English, French and Spanish speakers \n",
    "fig, ax = plt.subplots(figsize = (6,6))\n",
    "a = sns.boxplot(data= new, x= \"language_preferred\", y = 'time_spent_on_the_page');\n",
    "a.set_title(\"Boxplot: Languaged Preferred\", fontsize=15);\n",
    "plt.show()\n",
    "\n",
    "sns.histplot(data=new, x = \"time_spent_on_the_page\", kde = True);\n",
    "plt.title(\"Histogram: Time Spent On the New Page\")"
   ]
  },
  {
   "cell_type": "markdown",
   "id": "0f203255",
   "metadata": {},
   "source": [
    "**Observations:**\n",
    "* The median and mean viewing time for each group are not tightly grouped.\n",
    "* The histograms and boxplots for each language group suggests that their distributions are not normal distributed.\n",
    "* The standard deviations for the three language groups appear fairly equal.\n",
    "* The distribution of time spent on the new landing page appears close to normally distributed."
   ]
  },
  {
   "cell_type": "markdown",
   "id": "736e785d",
   "metadata": {},
   "source": [
    "### Shapiro-Wilk’s test\n",
    "\n",
    ">$H_0:$ Time spent on the new page follows a normal distribution \n",
    "\n",
    "against the alternative hypothesis\n",
    "\n",
    ">$H_a:$ Time spent on the new page does not follow a normal distribution"
   ]
  },
  {
   "cell_type": "code",
   "execution_count": 82,
   "id": "0b2ebc7c",
   "metadata": {},
   "outputs": [
    {
     "name": "stdout",
     "output_type": "stream",
     "text": [
      "The p-value is 0.8040016293525696\n"
     ]
    }
   ],
   "source": [
    "# Shapiro-Wilk's test to confirm that the distribution of the three language groups are evenly distributed.\n",
    "# import the required function\n",
    "from scipy import stats\n",
    "\n",
    "# find the p-value\n",
    "w, p_value = stats.shapiro(new[\"time_spent_on_the_page\"]) \n",
    "print('The p-value is', p_value)"
   ]
  },
  {
   "cell_type": "markdown",
   "id": "be4f5a1e",
   "metadata": {},
   "source": [
    "**Observations:**\n",
    "\n",
    "The p-value is greater than the $\\alpha$ of 0.05. There is not enough evidence to invalidate the null hypothesis. The distribution of the time spent on the new landing page is normally distributed."
   ]
  },
  {
   "cell_type": "markdown",
   "id": "cbcf2888",
   "metadata": {},
   "source": [
    "### Levene’s test\n",
    "\n",
    "\n",
    ">$H_0$: The variances in the time spent on the new page by each language group are equal.\n",
    "\n",
    "against the alternative hypothesis\n",
    "\n",
    ">$H_a$: At least one language group has a variance that is different from the rest."
   ]
  },
  {
   "cell_type": "code",
   "execution_count": 131,
   "id": "cf3ab2f8",
   "metadata": {},
   "outputs": [
    {
     "name": "stdout",
     "output_type": "stream",
     "text": [
      "The p-value is 0.46711357711340173\n"
     ]
    }
   ],
   "source": [
    "#Levene’s test to confirm that the variances are equal between the three language groups\n",
    "from scipy.stats import levene\n",
    "statistic, p_value = levene( new[new[\"language_preferred\"]==\"English\"][\"time_spent_on_the_page\"], \n",
    "                                   new[new[\"language_preferred\"]==\"Spanish\"][\"time_spent_on_the_page\"], \n",
    "                                   new[new[\"language_preferred\"]==\"French\"][\"time_spent_on_the_page\"])\n",
    "# find the p-value\n",
    "print('The p-value is', p_value)"
   ]
  },
  {
   "cell_type": "markdown",
   "id": "a2220982",
   "metadata": {},
   "source": [
    "**Observation:**\n",
    "\n",
    "The p-value is greater than 0.05. The variances of the three language groups are equal."
   ]
  },
  {
   "cell_type": "markdown",
   "id": "3a50be6f",
   "metadata": {},
   "source": [
    "### Step 5: Calculate P-Value"
   ]
  },
  {
   "cell_type": "code",
   "execution_count": 83,
   "id": "354a1ce1",
   "metadata": {},
   "outputs": [
    {
     "name": "stdout",
     "output_type": "stream",
     "text": [
      "The p-value is 0.43204138694325955\n"
     ]
    }
   ],
   "source": [
    "#import the required function\n",
    "from scipy.stats import f_oneway\n",
    "\n",
    "# perform one-way anova test\n",
    "test_stat, p_value = f_oneway(new[new[\"language_preferred\"]==\"English\"][\"time_spent_on_the_page\"], \n",
    "                                   new[new[\"language_preferred\"]==\"Spanish\"][\"time_spent_on_the_page\"], \n",
    "                                   new[new[\"language_preferred\"]==\"French\"][\"time_spent_on_the_page\"])\n",
    "print('The p-value is ' + str(p_value))"
   ]
  },
  {
   "cell_type": "markdown",
   "id": "bd6fa62a",
   "metadata": {},
   "source": [
    "### Step 6: Compare the P-Value with $\\alpha$\n",
    "\n",
    "The p-value ( 0.43204138694325955) is greater than the $\\alpha$ value of 0.05. There is not enough evidence to reject the null hypothesis.\n",
    "\n",
    "### Step 7: Draw Inference\n",
    "The null hypothesis is not overturned. The users from the three language groups viewed the new landing page for equal amounts of time.\n",
    "<br></br>\n",
    "<hr style=\"border:1px solid black\">\n",
    "\n"
   ]
  },
  {
   "cell_type": "markdown",
   "id": "3ee020b2",
   "metadata": {},
   "source": [
    "## Question: Do the language preferences have unequal conversion rates?\n",
    "\n",
    "\n",
    "### Step 1: Define null and alternative hypothesis\n",
    "Let $p_E, p_S, and p_F$ be the proportions of converted in the English, Spanish and French language groups respectively.\n",
    "\n",
    "The null hypothesis\n",
    "\n",
    ">$H_0:p_E = p_S = p_F$\n",
    "\n",
    "against the alternate hypothesis\n",
    "\n",
    ">$H_a:p_E \\neq p_S  or  p_E\\neq p_F or p_S\\neq p_F $\n",
    "\n",
    "\n",
    "### Step 2: Select Test\n",
    "Two Proportion Z-test\n",
    "\n",
    "The Two-Proportion Z-test will be run twice to test the null and the alternative hypotheses. \n",
    "1. The first test will test if the conversion rate of the English preferred group is equal than that of the Spanish preferred group.\n",
    "2. The second test will test if the conversion rate of the English preferred group is equal than that of the French preferred group.\n",
    "If the English conversion rate is equal to the Spanish conversion rate and the Spanish conversion rate is equal to the French conversion rate, we can assume that the English and French conversion rates are equal. \n",
    "\n",
    "Test Assumptions:\n",
    "* Binomally distributed population - A user can either convert or not convert.\n",
    "* Random sampling from the population \n",
    "* The np and n(1-p) values are greater than or equal to 10. The Central Limit Theorem supports that the binomial distriubtion approximates the normal distribution.\n",
    "\n",
    ">$np_E = 32\\cdot \\frac{21}{32} =21 \\geq 10\\\\\n",
    "n(1-p_E) = 32 \\cdot \\frac{32-21}{32} =11 \\geq 10 \\\\\n",
    "np_S = 34\\cdot \\frac{18}{34} =18 \\geq 10\\\\\n",
    "n(1-p_S) = 34\\cdot \\frac{34-18}{34} =16 \\geq 10 \\\\\n",
    "np_F = 34\\cdot \\frac{15}{34} =15 \\geq 10\\\\\n",
    "n(1-p_F) = 34\\cdot \\frac{34-15}{34} =19 \\geq 10 $\n",
    "\n",
    "### Step 3: Set Significance Level\n",
    "We will set $\\alpha$ to 0.05\n",
    "\n",
    "\n",
    "### Step 4: Collect and Prepare Data"
   ]
  },
  {
   "cell_type": "code",
   "execution_count": 132,
   "id": "95fc7639",
   "metadata": {},
   "outputs": [
    {
     "data": {
      "text/html": [
       "<div>\n",
       "<style scoped>\n",
       "    .dataframe tbody tr th:only-of-type {\n",
       "        vertical-align: middle;\n",
       "    }\n",
       "\n",
       "    .dataframe tbody tr th {\n",
       "        vertical-align: top;\n",
       "    }\n",
       "\n",
       "    .dataframe thead th {\n",
       "        text-align: right;\n",
       "    }\n",
       "</style>\n",
       "<table border=\"1\" class=\"dataframe\">\n",
       "  <thead>\n",
       "    <tr style=\"text-align: right;\">\n",
       "      <th>language_preferred</th>\n",
       "      <th>English</th>\n",
       "      <th>French</th>\n",
       "      <th>Spanish</th>\n",
       "    </tr>\n",
       "    <tr>\n",
       "      <th>converted</th>\n",
       "      <th></th>\n",
       "      <th></th>\n",
       "      <th></th>\n",
       "    </tr>\n",
       "  </thead>\n",
       "  <tbody>\n",
       "    <tr>\n",
       "      <th>no</th>\n",
       "      <td>11</td>\n",
       "      <td>19</td>\n",
       "      <td>16</td>\n",
       "    </tr>\n",
       "    <tr>\n",
       "      <th>yes</th>\n",
       "      <td>21</td>\n",
       "      <td>15</td>\n",
       "      <td>18</td>\n",
       "    </tr>\n",
       "  </tbody>\n",
       "</table>\n",
       "</div>"
      ],
      "text/plain": [
       "language_preferred  English  French  Spanish\n",
       "converted                                   \n",
       "no                       11      19       16\n",
       "yes                      21      15       18"
      ]
     },
     "execution_count": 132,
     "metadata": {},
     "output_type": "execute_result"
    }
   ],
   "source": [
    "table = pd.crosstab(df[\"converted\"],df[\"language_preferred\"])\n",
    "table"
   ]
  },
  {
   "cell_type": "markdown",
   "id": "bade7cd7",
   "metadata": {},
   "source": [
    "### Step 5: Calculate P-Value:"
   ]
  },
  {
   "cell_type": "code",
   "execution_count": 133,
   "id": "26b43ee9",
   "metadata": {},
   "outputs": [
    {
     "name": "stdout",
     "output_type": "stream",
     "text": [
      "The p-value is 0.2949041784943084\n"
     ]
    }
   ],
   "source": [
    "# First test - Conversion rate of the English preferred vs the conversion rate of the Spanish preferred\n",
    "# import the required fuction\n",
    "from statsmodels.stats.proportion import proportions_ztest\n",
    "\n",
    "# set the counts of conversion\n",
    "conversion_count = np.array([21, 18])\n",
    "\n",
    "# set the sample sizes\n",
    "nobs = np.array([32, 34])\n",
    "\n",
    "# find the p-value\n",
    "test_stat, p_value = proportions_ztest(conversion_count, nobs)\n",
    "print('The p-value is ' + str(p_value))"
   ]
  },
  {
   "cell_type": "markdown",
   "id": "dcb4e245",
   "metadata": {},
   "source": [
    "The p-value is greater than 0.05. There is not enough evidence to overturn the null hypothesis. The English and Spanish conversion rates are equal."
   ]
  },
  {
   "cell_type": "code",
   "execution_count": 134,
   "id": "ff794576",
   "metadata": {},
   "outputs": [
    {
     "name": "stdout",
     "output_type": "stream",
     "text": [
      "The p-value is 0.07947763501073615\n"
     ]
    }
   ],
   "source": [
    "# Second test - Conversion rate of the English preferred vs the conversion rate of the French preferred\n",
    "\n",
    "# set the counts of conversion\n",
    "conversion_count = np.array([21, 15])\n",
    "\n",
    "# set the sample sizes\n",
    "nobs = np.array([32, 34])\n",
    "\n",
    "# find the p-value\n",
    "test_stat, p_value = proportions_ztest(conversion_count, nobs)\n",
    "print('The p-value is ' + str(p_value))"
   ]
  },
  {
   "cell_type": "markdown",
   "id": "3551395c",
   "metadata": {},
   "source": [
    "The p-value is greater than 0.05. There is not enough evidence to overturn the null hypothesis. The French and Spanish conversion rates are equal."
   ]
  },
  {
   "cell_type": "markdown",
   "id": "dc925d55",
   "metadata": {},
   "source": [
    "### Step6: Compare the P-Value with $\\alpha$\n",
    "The p-values for both Two Proportion Z-test were greater than the $\\alpha$ of 0.05. There is no evidence to over turn the null hypothesis. \n",
    "\n",
    "### Step 7: Draw Inference\n",
    "The conversion rates for each of the language preferences is the same."
   ]
  },
  {
   "cell_type": "markdown",
   "id": "3acbc947",
   "metadata": {
    "id": "3acbc947"
   },
   "source": [
    "## Conclusion and Business Recommendations"
   ]
  },
  {
   "cell_type": "markdown",
   "id": "21fb1063",
   "metadata": {
    "id": "21fb1063"
   },
   "source": [
    "#### Conclusions\n",
    "\n",
    "1. Readers spent more time viewing the new redesigned website than the original website. \n",
    "2. The new website converter a higher proportion of its views to subscribers than the original website.\n",
    "3. The language preference of a reader does not predict whether he/she will subscribe.\n",
    "4. The readers from the three language groups viewed the new website for equal amounts of time and their conversion rates were equal.\n",
    "\n",
    "#### Recommendations\n",
    "* E-news Express should commit to using the new website. It does a better job of engaging readers and converting them to subscribers.\n",
    "* The news portal should collect data on what aspects of the new design and content the readers like in order to improve the new website and expand their business. \n",
    "    * number of views on particular topics and articles\n",
    "    * time spent viewing photos, infographs etc.\n",
    "    * conduct a survey or focus group\n",
    "* The portal should not invest too much into catering to a particular different language group. English, Spanish and French readers view the portal in equal numbers, for equal amounts of time and their conversion rates are equal."
   ]
  },
  {
   "cell_type": "markdown",
   "id": "U0dAd4i0iCHo",
   "metadata": {
    "id": "U0dAd4i0iCHo"
   },
   "source": [
    "___"
   ]
  }
 ],
 "metadata": {
  "colab": {
   "collapsed_sections": [
    "a6a3d218",
    "6970dd99",
    "9d75cfa2",
    "68f3b2c9",
    "fad2de2f",
    "27906576",
    "e5fdf0c8",
    "56b3dafd",
    "c7ee4907",
    "3f58c9a7",
    "5fed2eac",
    "f5c5258d",
    "359b12f8",
    "d9affc84",
    "353e9d24",
    "d49bfa2d",
    "8d585a90",
    "3acbc947"
   ],
   "name": "ENews_Express_Learner_Notebook_Full_Code v1.1.ipynb",
   "provenance": []
  },
  "kernelspec": {
   "display_name": "Python 3 (ipykernel)",
   "language": "python",
   "name": "python3"
  },
  "language_info": {
   "codemirror_mode": {
    "name": "ipython",
    "version": 3
   },
   "file_extension": ".py",
   "mimetype": "text/x-python",
   "name": "python",
   "nbconvert_exporter": "python",
   "pygments_lexer": "ipython3",
   "version": "3.9.12"
  }
 },
 "nbformat": 4,
 "nbformat_minor": 5
}
